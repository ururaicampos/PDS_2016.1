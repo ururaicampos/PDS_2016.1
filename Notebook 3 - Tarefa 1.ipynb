{
 "cells": [
  {
   "cell_type": "markdown",
   "metadata": {},
   "source": [
    "# Transformada Rápida de Fourier e a sua Inversa em JuliaLang\n",
    "---\n",
    "# Sumário\n",
    "<html>\n",
    "<body>\n",
    "<ul>\n",
    "    <li><a href=\"#1.-Transformada-Rápida-de-Fourier-(FFT)\">1. Transformada Rápida de Fourier (FFT)</a></li>\n",
    "</ul>\n",
    "<ul>\n",
    "    <li><a href=\"#2.-Inversa-da-Transformada-Rápida-de-Fourier-(IFFT)\">2. Inversa da Transformada Rápida de Fourier (IFFT)</a></li>\n",
    "</ul>\n",
    "<ul>\n",
    "    <li><a href=\"#3.-Bibliotecas-do-Julia-para-FFT\">3. Bibliotecas do Julia para FFT</a></li>\n",
    "        <ul>\n",
    "            <li><a href=\"#3.1-CLFFT\">3.1 CLFFT</a></li>\n",
    "            <li><a href=\"#3.2-NFFT\">3.2 NFFT</a></li>\n",
    "        </ul>\n",
    "</ul>\n",
    "<ul>\n",
    "    <li><a href=\"#4.-Conclusão\">4. Conclusão</a></li>\n",
    "</ul>\n",
    "<ul>\n",
    "    <li><a href=\"#5.-Referências\">5. Referências</a></li>\n",
    "</ul>\n",
    "\n",
    "</body>\n",
    "</html>         "
   ]
  },
  {
   "cell_type": "markdown",
   "metadata": {},
   "source": [
    "## 1. Transformada Rápida de Fourier (FFT)\n",
    "\n",
    "- Criando MyFFT :"
   ]
  },
  {
   "cell_type": "code",
   "execution_count": 1,
   "metadata": {
    "collapsed": false
   },
   "outputs": [
    {
     "data": {
      "text/plain": [
       "myFFT (generic function with 1 method)"
      ]
     },
     "execution_count": 1,
     "metadata": {},
     "output_type": "execute_result"
    }
   ],
   "source": [
    "function myFFT(x)\n",
    "    # Input : x - vetores de entrada\n",
    "    # Output : X - coeficientes de fourier\n",
    "    N = length(x)\n",
    "    #Inicializando os coeficientes de fourier da saida\n",
    "    X = zeros(1,N) + 1im*zeros(1,N)\n",
    "    #Fator de ponderação\n",
    "    W = exp(-1im*2*pi/N)\n",
    "    \n",
    "    if N == 2\n",
    "        X[1] = x[1] + x[2]\n",
    "        X[2] = x[1] - x[2]\n",
    "    else\n",
    "        for k = 1:N/2\n",
    "            Pares = myFFT(x[1:2:end])\n",
    "            Impares = myFFT(x[2:2:end])\n",
    "            X[k] = Pares[k] + W^(k-1)*Impares[k]\n",
    "            X[k+N/2] = Pares[k] + W^(k-1+N/2)*Impares[k]\n",
    "        end\n",
    "    end\n",
    "    return X'\n",
    "end"
   ]
  },
  {
   "cell_type": "code",
   "execution_count": 2,
   "metadata": {
    "collapsed": false
   },
   "outputs": [
    {
     "name": "stdout",
     "output_type": "stream",
     "text": [
      "elapsed time: 0.246844618 seconds (19160584 bytes allocated)\n"
     ]
    }
   ],
   "source": [
    "#N = 4096\n",
    "N = 32\n",
    "vectorTeste_fft = Complex32[1:1:N];\n",
    "getTime_myFFT = @time myFFT(vectorTeste_fft);"
   ]
  },
  {
   "cell_type": "markdown",
   "metadata": {},
   "source": [
    "- Utilizando a função Nativa do Julia :"
   ]
  },
  {
   "cell_type": "code",
   "execution_count": 3,
   "metadata": {
    "collapsed": false
   },
   "outputs": [
    {
     "name": "stdout",
     "output_type": "stream",
     "text": [
      "elapsed time: 0.195218919 seconds (6178220 bytes allocated)\n"
     ]
    }
   ],
   "source": [
    "#N = 4096\n",
    "N = 32\n",
    "vector = Complex32[1:1:N];\n",
    "getTime_ntFFT = @time fft(vector);"
   ]
  },
  {
   "cell_type": "markdown",
   "metadata": {},
   "source": [
    "## 2. Inversa da Transformada Rápida de Fourier (IFFT)\n",
    "\n",
    "- Criando MyIFFT :"
   ]
  },
  {
   "cell_type": "code",
   "execution_count": 4,
   "metadata": {
    "collapsed": false
   },
   "outputs": [
    {
     "data": {
      "text/plain": [
       "myIFFT (generic function with 1 method)"
      ]
     },
     "execution_count": 4,
     "metadata": {},
     "output_type": "execute_result"
    }
   ],
   "source": [
    "function myIFFT(x)\n",
    "    N = length(x)\n",
    "    return (1/N)*myFFT(x)\n",
    "end"
   ]
  },
  {
   "cell_type": "code",
   "execution_count": 5,
   "metadata": {
    "collapsed": false
   },
   "outputs": [
    {
     "name": "stdout",
     "output_type": "stream",
     "text": [
      "elapsed time: 0.034236323 seconds (11937700 bytes allocated)\n"
     ]
    }
   ],
   "source": [
    "#N = 4096\n",
    "N = 32\n",
    "vectorTeste_ifft = Complex32[1:1:N];\n",
    "getTime_myIFFT = @time myIFFT(vectorTeste_ifft);"
   ]
  },
  {
   "cell_type": "markdown",
   "metadata": {},
   "source": [
    "- Utilizando a função Nativa do Julia :"
   ]
  },
  {
   "cell_type": "code",
   "execution_count": 12,
   "metadata": {
    "collapsed": false
   },
   "outputs": [
    {
     "name": "stdout",
     "output_type": "stream",
     "text": [
      "elapsed time: 0.006755123 seconds (67512 bytes allocated)\n"
     ]
    }
   ],
   "source": [
    "N = 4096\n",
    "vector_IFFT = [1:1:N];\n",
    "getTime_ntIFFT = @time ifft(vector_IFFT);"
   ]
  },
  {
   "cell_type": "markdown",
   "metadata": {},
   "source": [
    "## 3. Bibliotecas do Julia para FFT"
   ]
  },
  {
   "cell_type": "markdown",
   "metadata": {},
   "source": [
    "### 3.1 CLFFT\n",
    "\n",
    "A CLFFT fornece um conjunto de rotinas de FFT que são otimizados para os processadores gráficos da AMD, e que também são funcionais em toda a CPU e outros dispositivos de computação."
   ]
  },
  {
   "cell_type": "code",
   "execution_count": 15,
   "metadata": {
    "collapsed": false
   },
   "outputs": [
    {
     "data": {
      "text/plain": [
       "myCLFFT (generic function with 1 method)"
      ]
     },
     "execution_count": 15,
     "metadata": {},
     "output_type": "execute_result"
    }
   ],
   "source": [
    "import OpenCL\n",
    "import CLFFT\n",
    "\n",
    "const cl = OpenCL\n",
    "const clfft = CLFFT\n",
    "\n",
    "_, ctx, queue = cl.create_compute_context()\n",
    "\n",
    "function myCLFFT(x)\n",
    "    N = length(x)\n",
    "    X = ones(Complex64, N)\n",
    "    bufX = cl.Buffer(Complex64, ctx, :copy, hostbuf=X)\n",
    "\n",
    "    p = clfft.Plan(Complex64, ctx, size(X))\n",
    "    clfft.set_layout!(p, :interleaved, :interleaved)\n",
    "    clfft.set_result!(p, :inplace)\n",
    "    clfft.bake!(p, queue)\n",
    "\n",
    "    clfft.enqueue_transform(p, :forward, [queue], bufX, nothing)  \n",
    "    result = cl.read(queue, bufX)\n",
    "\n",
    "    @assert isapprox(norm(result - fft(X)), zero(Float32))\n",
    "    \n",
    "end\n"
   ]
  },
  {
   "cell_type": "code",
   "execution_count": 8,
   "metadata": {
    "collapsed": false
   },
   "outputs": [
    {
     "ename": "LoadError",
     "evalue": "myCLFFT not defined\nwhile loading In[8], in expression starting on line 56",
     "output_type": "error",
     "traceback": [
      "myCLFFT not defined\nwhile loading In[8], in expression starting on line 56",
      ""
     ]
    }
   ],
   "source": [
    "N = 4096\n",
    "vector_CLFFT = [1:1:N];\n",
    "getTime_CLFFT = @time myCLFFT(vector_CLFFT);"
   ]
  },
  {
   "cell_type": "markdown",
   "metadata": {},
   "source": [
    "### 3.2 NFFT\n",
    "\n",
    "Esse pacote permite a implementação em Julia de uma Não-equidistante Transformada Rápida de Fourier (NFFT). Basicamente é a Transformada Discreta de Fourier com nós de amostrasgem não-equidistantes em qualquer Fourier ou domínio de tempo/espaço. Em contraste com a FFT, a NFFT é um algoritmo aproximado da qual sua precisão pode ser controlada por dois parâmetros: A largura da Janela **_m_** e o fator de subamostragem $\\sigma$."
   ]
  },
  {
   "cell_type": "code",
   "execution_count": 9,
   "metadata": {
    "collapsed": false
   },
   "outputs": [
    {
     "data": {
      "text/plain": [
       "myNFFT (generic function with 1 method)"
      ]
     },
     "execution_count": 9,
     "metadata": {},
     "output_type": "execute_result"
    }
   ],
   "source": [
    "using NFFT \n",
    "\n",
    "function myNFFT(x)\n",
    "    N = length(x)\n",
    "    x = linspace(-0.4, 0.4, N)      # nodes at which the NFFT is evaluated\n",
    "    fHat = randn(N)+randn(N)*1im    # data to be transformed\n",
    "    p = NFFTPlan(x, N)              # create plan. m and sigma are optional parameters\n",
    "    f = nfft_adjoint(p, fHat)       # calculate adjoint NFFT\n",
    "    g = nfft(p, f)                  # calculate forward NFFT\n",
    "end\n"
   ]
  },
  {
   "cell_type": "code",
   "execution_count": 14,
   "metadata": {
    "collapsed": false
   },
   "outputs": [
    {
     "name": "stdout",
     "output_type": "stream",
     "text": [
      "elapsed time: 0.015160731 seconds (1563584 bytes allocated)\n"
     ]
    }
   ],
   "source": [
    "N = 4096\n",
    "vector_NFFT = [1:1:N];\n",
    "getTime_NFFT = @time myNFFT(vector_NFFT);"
   ]
  },
  {
   "cell_type": "markdown",
   "metadata": {},
   "source": [
    "## 4. Conclusão\n",
    "\n",
    "A Tabela abaixo fornece a informação do tempo de compilação de cada algoritmo e a sua quantidade de bytes alocados."
   ]
  },
  {
   "cell_type": "code",
   "execution_count": 16,
   "metadata": {
    "collapsed": false
   },
   "outputs": [
    {
     "data": {
      "text/html": [
       "<table class=\"data-frame\"><tr><th></th><th>Função</th><th>Tempo_de_Compilação_segundos</th><th>Bytes_Alocados</th></tr><tr><th>1</th><td>MyFFT</td><td>----</td><td>----</td></tr><tr><th>2</th><td>Native FFT</td><td>0.195218919</td><td>6178220</td></tr><tr><th>3</th><td>MyIFFT</td><td>----</td><td>----</td></tr><tr><th>4</th><td>Native IFFT</td><td>0.006755123</td><td>67512</td></tr><tr><th>5</th><td>CLFFT</td><td>0.268256433</td><td>10507482</td></tr><tr><th>6</th><td>NFFT</td><td>0.01308109</td><td>1563584</td></tr></table>"
      ],
      "text/plain": [
       "6x3 DataFrame\n",
       "| Row | Função        | Tempo_de_Compilação_segundos | Bytes_Alocados |\n",
       "|-----|---------------|------------------------------|----------------|\n",
       "| 1   | \"MyFFT\"       | \"----\"                       | \"----\"         |\n",
       "| 2   | \"Native FFT\"  | 0.195219                     | 6178220        |\n",
       "| 3   | \"MyIFFT\"      | \"----\"                       | \"----\"         |\n",
       "| 4   | \"Native IFFT\" | 0.00675512                   | 67512          |\n",
       "| 5   | \"CLFFT\"       | 0.268256                     | 10507482       |\n",
       "| 6   | \"NFFT\"        | 0.0130811                    | 1563584        |"
      ]
     },
     "execution_count": 16,
     "metadata": {},
     "output_type": "execute_result"
    }
   ],
   "source": [
    "using DataFrames\n",
    "\n",
    "#Necessário o truncamento no @time, DEFEITO!\n",
    "#Dados Ilustrativos\n",
    "\n",
    "tabela = DataFrame(Função = [\"MyFFT\",\"Native FFT\",\"MyIFFT\",\"Native IFFT\",\"CLFFT\",\"NFFT\"],\n",
    "#Tempo_de_Compilação_segundos = [getTime_myFFT, getTime_ntFFT, getTime_myIFFT, getTime_CLFFT, getTime_NFFT])\n",
    "Tempo_de_Compilação_segundos = [\"----\",0.195218919,\"----\",0.006755123,0.268256433,0.01308109],\n",
    "#Bytes_Alocados = [getByte_myFFT, getByte_ntFFT, getByte_myIFFT, getByte_CLFFT, getByte_NFFT])\n",
    "Bytes_Alocados = [\"----\",6178220,\"----\",67512,10507482,1563584])"
   ]
  },
  {
   "cell_type": "markdown",
   "metadata": {
    "collapsed": true
   },
   "source": [
    "## 5. Referências\n",
    "\n",
    "Agradecimentos aos colegas de turma : Braga, Johnathan S. ; Souza, Elitelma S.\n",
    "\n",
    "http://pkg.julialang.org/\n",
    "\n",
    "https://github.com/tknopp/NFFT.jl\n",
    "\n",
    "https://github.com/JuliaGPU/CLFFT.jl\n",
    "\n",
    "https://github.com/FugroRoames/TypedTables.jl"
   ]
  },
  {
   "cell_type": "code",
   "execution_count": null,
   "metadata": {
    "collapsed": true
   },
   "outputs": [],
   "source": []
  }
 ],
 "metadata": {
  "kernelspec": {
   "display_name": "Julia 0.3.12",
   "language": "julia",
   "name": "julia-0.3"
  },
  "language_info": {
   "file_extension": ".jl",
   "mimetype": "application/julia",
   "name": "julia",
   "version": "0.3.12"
  }
 },
 "nbformat": 4,
 "nbformat_minor": 0
}
