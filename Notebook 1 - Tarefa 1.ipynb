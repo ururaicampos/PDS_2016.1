{
 "cells": [
  {
   "cell_type": "markdown",
   "metadata": {},
   "source": [
    "# Tutorial PDS 2016.1\n",
    "---\n",
    "# Sumário\n",
    "\n",
    "<html>\n",
    "<body>\n",
    "<ul>\n",
    "    <li><a href=\"#1.-Anaconda\">1. Anaconda</a></li>\n",
    "        <ul>\n",
    "            <li><a href=\"#1.1-Introdução-:\">1.1 Introdução</a></li>\n",
    "            <li><a href=\"#1.2-Instalação-:\">1.2 Instalação</a></li>\n",
    "            <li><a href=\"#1.3-Utilizando-o-Jupyter-Notebook-:\">1.3 Utilizando o Jupyter Notebook</a></li> \n",
    "        </ul>\n",
    "</ul>\n",
    "<ul>\n",
    "    <li><a href=\"#2.-IJulia-Notebook\">2. IJulia Notebook</a></li>\n",
    "        <ul>\n",
    "            <li><a href=\"#2.1-Introdução-:\">2.1 Introdução</a></li>\n",
    "            <li><a href=\"#2.2-Instalação-:\">2.2 Instalação</a></li>\n",
    "            <li><a href=\"#2.3-Utilizando-o-IJulia-Notebook-:\">2.3 Utilizando o IJulia Notebook</a></li> \n",
    "        </ul>\n",
    "</ul>\n",
    "<ul>\n",
    "     <li><a href=\"#3.-GitHub\">3. GitHub</a></li>\n",
    "         <ul>\n",
    "            <li><a href=\"#3.1-Introdução-:\">3.1 Introdução</a></li>\n",
    "            <li><a href=\"#3.2-Instalação-:\">3.2 Instalação</a></li>\n",
    "            <li><a href=\"#3.3-Utilizando-o-GitHub-:\">3.3 Utilizando o GitHub</a></li> \n",
    "</ul>\n",
    "</ul>\n",
    "</body>\n",
    "</html>            "
   ]
  },
  {
   "cell_type": "markdown",
   "metadata": {},
   "source": [
    "# 1. Anaconda\n",
    "\n",
    "### 1.1 Introdução :\n",
    "Anaconda é uma plataforma gratuita para desenvolvimento em Python, da qual possui mais de 400 bibliotecas populares para as áreas de ciência, matemática, engenharias e análise de dados. Todo o ecossistema de ferramentas habituais na programação em Python funciona para essa plataforma.\n",
    "\n",
    "### 1.2 Instalação : \n",
    "- **Windows :** \n",
    "Para instalar o Software, [acesse](https://www.continuum.io/downloads) o site oficial da plataforma e escolha a versão desejada dependendo da arquitetura do seu computador (32 ou 64 bits). Clique duplo no arquivo *.exe* e siga as instruções.\n",
    "\n",
    "- **OSX :**\n",
    "Para instalar o Software, [acesse](https://www.continuum.io/downloads) o site oficial da plataforma e escolha a versão desejada dependendo da arquitetura do seu computador (32 ou 64 bits). Clique duplo no arquivo *.pkg* e siga as instruções.\n",
    "\n",
    "- **Linux :**\n",
    "Para a instalar o Software, abra o seu terminal e digite o seguinte código: \n",
    "\n",
    "**_Python 2.7_**\n",
    "<div style=\"background-color:black; color:white;\"> >> bash Anaconda2-2.5.0-Linux-x86_64.sh </div> <br>  \n",
    "**_Python 3.5_**\n",
    "<div style=\"background-color:black; color:white;\"> >> bash Anaconda3-2.5.0-Linux-x86_64.sh </div> <br>\n",
    "    **OBS.:** O Exemplo acima é para um computador com arquitetura de 64 bits.\n",
    "\n",
    "### 1.3 Utilizando o Jupyter Notebook :\n",
    "Ao finalizar a instalação do programa, abra a prompt de comando do Anaconda escolha o diretório desejado e digite :\n",
    "<div style=\"background-color:black; color:white;\"> >> ipython notebook </div> <br>\n",
    "ou\n",
    "<div style=\"background-color:black; color:white;\"> >> jupyter notebook </div> <br>\n",
    "\n",
    "Após alguns segundos o seu navegador padrão irá abrir uma nova janela com o seguinte endereço:\n",
    "\n",
    "    http://localhost:8888/tree\n",
    "\n",
    "No botão **NEW** é possível criar um notebook utilizando Python, para a utilização de Julia veremos logo a seguir como fazer."
   ]
  },
  {
   "cell_type": "markdown",
   "metadata": {},
   "source": [
    "# 2. IJulia Notebook\n",
    "\n",
    "### 2.1 Introdução :\n",
    "JuliaLang é uma linguagem iterativa com a plataforma JUPYTER da qual se é possível interagir usando o Ipython/Jupyter notebook para combinar código, texto formatado e multimidea em um único documento.\n",
    "\n",
    "### 2.2 Instalação :\n",
    "**OBS: É Necessário instalar o ANACONDA antes de prosseguir com a instalação do IJulia.**\n",
    "\n",
    "- **Windows:**\n",
    "[Baixe julia](http://julialang.org/downloads/) versão 0.3 ou superior. Após realizar a instalação do software, abra a prompt de comando do Julia e digite:\n",
    "<div style=\"background-color:black; color:white;\"> >> Pkg.add(\"IJulia\") </div> <br>\n",
    "O processo **Pkg.add(\"IJulia\")** irá buscar por um programa nomeado ipython ou jupyter, versão 3 ou superior, no seu diretório e realizará a instalação. \n",
    "- **OS X:**\n",
    "Para o Mac, baixe o [Julia-version.dmg](http://julialang.org/downloads/) do qual contém o **Julia.app**. A instalação a seguir é trivial e similar a rotina de instalação de qualquer outro software para Mac.\n",
    "- **Linux:**\n",
    "Julia disponibiliza um Personal Package Archive (PPA) que permite fazer updating automaticamente da ultima versão estável da linguagem. Para usar a PPA basta digitar os seguintes comandos no seu terminal:\n",
    "<div style=\"background-color:black; color:white;\"> >> sudo add-apt-repository ppa:staticfloat/juliareleases <br>\n",
    ">> sudo add-apt-repository ppa:staticfloat/julia-deps <br> \n",
    ">> sudo apt-get update <br> \n",
    ">> sudo apt-get install julia\n",
    "</div>\n",
    "\n",
    "### 2.3 Utilizando o IJulia Notebook :\n",
    "É possível abrir o IJulia/Jupyter Notebook pelo terminal do Julia, basta digitar os seguintes comandos:\n",
    "\n",
    "<div style=\"background-color:black; color:white;\"> using IJulia <br>\n",
    "notebook() <br></div>"
   ]
  },
  {
   "cell_type": "markdown",
   "metadata": {},
   "source": [
    "# 3. GitHub\n",
    "\n",
    "### 3.1 Introdução :\n",
    "   O GitHub é um serviço de Web Hosting Compartilhado para projetos que utilizam o controle de versionamento Git. Para efetuar o seu cadastro [acesse](https://github.com/join) o site.\n",
    "   \n",
    "### 3.2 Instalação :\n",
    "- **Windows:**\n",
    "Faça o [download](https://git-for-windows.github.io/) no site e prossiga normalmente com a instalação.\n",
    "- **OS X:**\n",
    "Faça o [download](https://sourceforge.net/projects/git-osx-installer/) da forma gráfica no site e prossiga normalmente com a instalação.\n",
    "- **Linux:**\n",
    "Abra o seu terminal e digita:\n",
    "<div style=\"background-color:black; color:white;\"> >> sudo apt-get install git</div>\n",
    "\n",
    "### 3.3 Utilizando o GitHub :\n",
    "Após realizar o seu cadastro, [acesse](https://github.com/) o site e crie o seu repositório. Em dúvida basta seguir siga o tutorial fornecido pelo site."
   ]
  },
  {
   "cell_type": "code",
   "execution_count": null,
   "metadata": {
    "collapsed": true
   },
   "outputs": [],
   "source": []
  }
 ],
 "metadata": {
  "kernelspec": {
   "display_name": "Python 3",
   "language": "python",
   "name": "python3"
  },
  "language_info": {
   "codemirror_mode": {
    "name": "ipython",
    "version": 3
   },
   "file_extension": ".py",
   "mimetype": "text/x-python",
   "name": "python",
   "nbconvert_exporter": "python",
   "pygments_lexer": "ipython3",
   "version": "3.5.1"
  }
 },
 "nbformat": 4,
 "nbformat_minor": 0
}
